{
 "cells": [
  {
   "cell_type": "code",
   "execution_count": null,
   "id": "7f9dd271",
   "metadata": {},
   "outputs": [],
   "source": [
    "## Gapminder Project ##\n",
    "\n"
   ]
  },
  {
   "cell_type": "code",
   "execution_count": null,
   "id": "b272d277",
   "metadata": {},
   "outputs": [],
   "source": [
    "# importing libraries for data analysis\n",
    "\n",
    "import pandas as pd\n",
    "import numpy as np"
   ]
  },
  {
   "cell_type": "code",
   "execution_count": null,
   "id": "cbc5d261",
   "metadata": {},
   "outputs": [],
   "source": [
    "# importing libraries for data visualisation\n",
    "\n",
    "import matplotlib.pyplot as plt\n",
    "import seaborn as sns"
   ]
  },
  {
   "cell_type": "code",
   "execution_count": null,
   "id": "501d738e",
   "metadata": {},
   "outputs": [],
   "source": [
    "# importing library for image processing\n",
    "\n",
    "import imageio"
   ]
  },
  {
   "cell_type": "code",
   "execution_count": null,
   "id": "c4397235",
   "metadata": {},
   "outputs": [],
   "source": []
  },
  {
   "cell_type": "code",
   "execution_count": null,
   "id": "30c5cedd",
   "metadata": {},
   "outputs": [],
   "source": [
    "# continents.csv"
   ]
  },
  {
   "cell_type": "code",
   "execution_count": null,
   "id": "8864f2dd",
   "metadata": {},
   "outputs": [],
   "source": [
    "continents = pd.read_csv(\"../data/continents.csv\", sep =\";\") "
   ]
  },
  {
   "cell_type": "code",
   "execution_count": null,
   "id": "bbd0c494",
   "metadata": {},
   "outputs": [],
   "source": [
    "continents"
   ]
  },
  {
   "cell_type": "code",
   "execution_count": null,
   "id": "897c07fe",
   "metadata": {},
   "outputs": [],
   "source": [
    "continents.info()"
   ]
  },
  {
   "cell_type": "code",
   "execution_count": null,
   "id": "d6adffac",
   "metadata": {},
   "outputs": [],
   "source": [
    "# checking the unique continents in the dataframe\n",
    "\n",
    "continents['continent'].unique()"
   ]
  },
  {
   "cell_type": "code",
   "execution_count": null,
   "id": "fca4d0fc",
   "metadata": {},
   "outputs": [],
   "source": [
    "# checking for null\n",
    "\n",
    "continents.isnull().sum()"
   ]
  },
  {
   "cell_type": "code",
   "execution_count": null,
   "id": "1d7848d3",
   "metadata": {},
   "outputs": [],
   "source": [
    "continents['continent'].value_counts()"
   ]
  },
  {
   "cell_type": "code",
   "execution_count": null,
   "id": "661f49ba",
   "metadata": {},
   "outputs": [],
   "source": [
    "continents[\"continent\"].value_counts().plot(kind=\"bar\", color='teal');"
   ]
  },
  {
   "cell_type": "code",
   "execution_count": null,
   "id": "9707758f",
   "metadata": {},
   "outputs": [],
   "source": []
  },
  {
   "cell_type": "code",
   "execution_count": null,
   "id": "bf4134b7",
   "metadata": {},
   "outputs": [],
   "source": [
    "# population.csv"
   ]
  },
  {
   "cell_type": "code",
   "execution_count": null,
   "id": "6963879e",
   "metadata": {},
   "outputs": [],
   "source": [
    "# reading the population.csv into a dataframe\n",
    "\n",
    "population = pd.read_csv(\"../data/population.csv\")"
   ]
  },
  {
   "cell_type": "code",
   "execution_count": null,
   "id": "82c08bd7",
   "metadata": {},
   "outputs": [],
   "source": [
    "population.head()"
   ]
  },
  {
   "cell_type": "code",
   "execution_count": null,
   "id": "9fde8b0f",
   "metadata": {},
   "outputs": [],
   "source": [
    "population.tail(10)"
   ]
  },
  {
   "cell_type": "code",
   "execution_count": null,
   "id": "6fd95b7a",
   "metadata": {},
   "outputs": [],
   "source": [
    "# inspecting the dataframe\n",
    "# inspecting the datatypes of the columns\n",
    "\n",
    "population.dtypes"
   ]
  },
  {
   "cell_type": "code",
   "execution_count": null,
   "id": "8822e660",
   "metadata": {},
   "outputs": [],
   "source": [
    "# inspecting the dataframe with .info\n",
    "\n",
    "population.info()"
   ]
  },
  {
   "cell_type": "code",
   "execution_count": null,
   "id": "9af83d24",
   "metadata": {},
   "outputs": [],
   "source": [
    "# The describe method will give statistical insights for numeric columns\n",
    "\n",
    "population.describe()"
   ]
  },
  {
   "cell_type": "code",
   "execution_count": null,
   "id": "1bd3e824",
   "metadata": {},
   "outputs": [],
   "source": [
    "# Renaming the first column to 'country'\n",
    "\n",
    "population.rename(columns={'Total population':\"country\"}, inplace=True)"
   ]
  },
  {
   "cell_type": "code",
   "execution_count": null,
   "id": "4af9c8d3",
   "metadata": {},
   "outputs": [],
   "source": [
    "# check the null values\n",
    "\n",
    "population.isnull()  #the question is: \"Is this value a null? False= not a null / True = yes, null value\""
   ]
  },
  {
   "cell_type": "code",
   "execution_count": null,
   "id": "8af5024c",
   "metadata": {},
   "outputs": [],
   "source": [
    "# summarize empty values\n",
    "\n",
    "population.isnull().sum()"
   ]
  },
  {
   "cell_type": "code",
   "execution_count": null,
   "id": "638b9eb5",
   "metadata": {},
   "outputs": [],
   "source": [
    "# checking for duplicated rows!\n",
    "population.duplicated().sum()\n",
    "\n",
    "# if we had duplicates, we should use the method drop_duplicates()"
   ]
  },
  {
   "cell_type": "code",
   "execution_count": null,
   "id": "e2ebe935",
   "metadata": {},
   "outputs": [],
   "source": [
    "# removing missing data by dropping the observations with missing data\n",
    "\n",
    "population.dropna(axis=0, inplace=True)"
   ]
  },
  {
   "cell_type": "code",
   "execution_count": null,
   "id": "3ee0ad72",
   "metadata": {},
   "outputs": [],
   "source": [
    "population.isna().sum()"
   ]
  },
  {
   "cell_type": "code",
   "execution_count": null,
   "id": "dc609ee1",
   "metadata": {},
   "outputs": [],
   "source": [
    "population.info()"
   ]
  },
  {
   "cell_type": "code",
   "execution_count": null,
   "id": "c4e69a16",
   "metadata": {},
   "outputs": [],
   "source": [
    "# histogram on the 'year' column using matplotlib\n",
    "\n",
    "plt.hist(population['year'], bins=20);"
   ]
  },
  {
   "cell_type": "code",
   "execution_count": null,
   "id": "29f996da",
   "metadata": {},
   "outputs": [],
   "source": [
    "# histogram on the 'population' column using matplotlib\n",
    "# use logarithmic transformation to minimize differences (homogenize the data) in datasets with huge differences\n",
    "\n",
    "plt.hist(population['population'], bins=200, log=True);"
   ]
  },
  {
   "cell_type": "code",
   "execution_count": null,
   "id": "549a3240",
   "metadata": {},
   "outputs": [],
   "source": [
    "# chacking for the lowest population\n",
    "\n",
    "population['population'].min()"
   ]
  },
  {
   "cell_type": "code",
   "execution_count": null,
   "id": "f06aa7a1",
   "metadata": {},
   "outputs": [],
   "source": [
    "# and identifying it belongs to Pitcairn Islands in the Pacific Ocean for the years 2005-2010\n",
    "\n",
    "population[population['population']==50]"
   ]
  },
  {
   "cell_type": "code",
   "execution_count": null,
   "id": "430a19f6",
   "metadata": {},
   "outputs": [],
   "source": [
    "# filtering the dataset that it begins with the year 1950 with a boolean mask\n",
    "\n",
    "p_mask1950 = population[\"year\"]>1949"
   ]
  },
  {
   "cell_type": "code",
   "execution_count": null,
   "id": "7d59d8cd",
   "metadata": {},
   "outputs": [],
   "source": [
    "# and saving it as another dataframe\n",
    "\n",
    "population1950 = population[p_mask1950]"
   ]
  },
  {
   "cell_type": "code",
   "execution_count": null,
   "id": "685bdb79",
   "metadata": {},
   "outputs": [],
   "source": [
    "population1950.reset_index(drop=True, inplace=True)"
   ]
  },
  {
   "cell_type": "code",
   "execution_count": null,
   "id": "3a32a4d0",
   "metadata": {},
   "outputs": [],
   "source": [
    "population1950"
   ]
  },
  {
   "cell_type": "code",
   "execution_count": null,
   "id": "9b2e9604",
   "metadata": {},
   "outputs": [],
   "source": [
    "# making the data persistant by saving the dataset as a .csv file in the data folder\n",
    "\n",
    "population1950.to_csv('../data/population1950.csv')"
   ]
  },
  {
   "cell_type": "code",
   "execution_count": null,
   "id": "2ddbb5b7",
   "metadata": {},
   "outputs": [],
   "source": []
  },
  {
   "cell_type": "code",
   "execution_count": null,
   "id": "a8b3f807",
   "metadata": {},
   "outputs": [],
   "source": [
    "# Fertility rate csv dataset"
   ]
  },
  {
   "cell_type": "code",
   "execution_count": null,
   "id": "1bc505ba",
   "metadata": {},
   "outputs": [],
   "source": [
    "fertility = pd.read_csv('../data/fertility_rate.csv')"
   ]
  },
  {
   "cell_type": "code",
   "execution_count": null,
   "id": "501d5baf",
   "metadata": {},
   "outputs": [],
   "source": [
    "fertility"
   ]
  },
  {
   "cell_type": "code",
   "execution_count": null,
   "id": "5d01e046",
   "metadata": {},
   "outputs": [],
   "source": [
    "# renaming the first column to 'country'\n",
    "\n",
    "fertility = fertility.rename(columns={'Total fertility rate':\"country\"})"
   ]
  },
  {
   "cell_type": "code",
   "execution_count": null,
   "id": "bcc6bb18",
   "metadata": {},
   "outputs": [],
   "source": [
    "fertility.info()"
   ]
  },
  {
   "cell_type": "code",
   "execution_count": null,
   "id": "fe450d43",
   "metadata": {},
   "outputs": [],
   "source": [
    "fertility.isna().sum()"
   ]
  },
  {
   "cell_type": "code",
   "execution_count": null,
   "id": "564166a1",
   "metadata": {},
   "outputs": [],
   "source": [
    "fertility.dropna(axis=0, inplace=True)"
   ]
  },
  {
   "cell_type": "code",
   "execution_count": null,
   "id": "bc6840ed",
   "metadata": {},
   "outputs": [],
   "source": [
    "fertility.isna().sum()"
   ]
  },
  {
   "cell_type": "code",
   "execution_count": null,
   "id": "fca4e67d",
   "metadata": {},
   "outputs": [],
   "source": [
    "f_mask1950 = fertility[\"year\"]>1949"
   ]
  },
  {
   "cell_type": "code",
   "execution_count": null,
   "id": "9620c24c",
   "metadata": {},
   "outputs": [],
   "source": [
    "fertility1950 = fertility[f_mask1950]"
   ]
  },
  {
   "cell_type": "code",
   "execution_count": null,
   "id": "dc45dcf2",
   "metadata": {},
   "outputs": [],
   "source": [
    "fertility1950.reset_index(drop=True, inplace=True)"
   ]
  },
  {
   "cell_type": "code",
   "execution_count": null,
   "id": "27b4a453",
   "metadata": {},
   "outputs": [],
   "source": [
    "fertility1950.head()"
   ]
  },
  {
   "cell_type": "code",
   "execution_count": null,
   "id": "01fb610e",
   "metadata": {},
   "outputs": [],
   "source": [
    "fertility1950.to_csv('../data/fertility1950.csv')"
   ]
  },
  {
   "cell_type": "code",
   "execution_count": null,
   "id": "7e38b787",
   "metadata": {},
   "outputs": [],
   "source": []
  },
  {
   "cell_type": "code",
   "execution_count": null,
   "id": "3f5762af",
   "metadata": {},
   "outputs": [],
   "source": [
    "# Life expectancy.xls\n",
    "\n",
    "# it is an excel file. In case is not installed: !pip install xlrd"
   ]
  },
  {
   "cell_type": "code",
   "execution_count": null,
   "id": "04195491",
   "metadata": {},
   "outputs": [],
   "source": [
    "expectancy = pd.read_excel('../data/life_expectancy.xls')"
   ]
  },
  {
   "cell_type": "code",
   "execution_count": null,
   "id": "2de78441",
   "metadata": {},
   "outputs": [],
   "source": [
    "expectancy"
   ]
  },
  {
   "cell_type": "code",
   "execution_count": null,
   "id": "4f382e59",
   "metadata": {},
   "outputs": [],
   "source": [
    "expectancy.rename(columns={'Life expectancy':\"country\"}, inplace=True)"
   ]
  },
  {
   "cell_type": "code",
   "execution_count": null,
   "id": "3ac5b9e8",
   "metadata": {},
   "outputs": [],
   "source": [
    "expectancy.head()"
   ]
  },
  {
   "cell_type": "code",
   "execution_count": null,
   "id": "3e03dcf8",
   "metadata": {},
   "outputs": [],
   "source": [
    "expectancy.info()"
   ]
  },
  {
   "cell_type": "code",
   "execution_count": null,
   "id": "c32d3606",
   "metadata": {},
   "outputs": [],
   "source": [
    "expectancy.isna().sum()"
   ]
  },
  {
   "cell_type": "code",
   "execution_count": null,
   "id": "94022018",
   "metadata": {},
   "outputs": [],
   "source": [
    "expectancy.dropna(axis=0, inplace=True)"
   ]
  },
  {
   "cell_type": "code",
   "execution_count": null,
   "id": "8c819665",
   "metadata": {},
   "outputs": [],
   "source": [
    "expectancy.isna().sum()"
   ]
  },
  {
   "cell_type": "code",
   "execution_count": null,
   "id": "cc538fc7",
   "metadata": {},
   "outputs": [],
   "source": [
    "e_mask1950 = expectancy[\"year\"]>1949"
   ]
  },
  {
   "cell_type": "code",
   "execution_count": null,
   "id": "98ff495f",
   "metadata": {},
   "outputs": [],
   "source": [
    "expectancy1950 = expectancy[e_mask1950]"
   ]
  },
  {
   "cell_type": "code",
   "execution_count": null,
   "id": "62be0443",
   "metadata": {},
   "outputs": [],
   "source": [
    "expectancy1950.reset_index(drop=True, inplace=True)"
   ]
  },
  {
   "cell_type": "code",
   "execution_count": null,
   "id": "6bdb658d",
   "metadata": {},
   "outputs": [],
   "source": [
    "expectancy1950.info()"
   ]
  },
  {
   "cell_type": "code",
   "execution_count": null,
   "id": "c572e916",
   "metadata": {},
   "outputs": [],
   "source": [
    "expectancy1950.head()"
   ]
  },
  {
   "cell_type": "code",
   "execution_count": null,
   "id": "8488984b",
   "metadata": {},
   "outputs": [],
   "source": [
    "expectancy1950.to_csv('../data/expectancy1950.csv')"
   ]
  },
  {
   "cell_type": "code",
   "execution_count": null,
   "id": "9c795fa1",
   "metadata": {},
   "outputs": [],
   "source": [
    "# exploring the expectancy1950 dataset\n",
    "\n",
    "expectancy1950.describe()"
   ]
  },
  {
   "cell_type": "code",
   "execution_count": null,
   "id": "8443ee76",
   "metadata": {},
   "outputs": [],
   "source": [
    "# what is the total mean life expectancy?\n",
    "\n",
    "expectancy1950['life expectancy'].mean()"
   ]
  },
  {
   "cell_type": "code",
   "execution_count": null,
   "id": "f68a2107",
   "metadata": {},
   "outputs": [],
   "source": [
    "# what is the total median life expectancy?\n",
    "\n",
    "expectancy1950['life expectancy'].median()"
   ]
  },
  {
   "cell_type": "code",
   "execution_count": null,
   "id": "85d9de96",
   "metadata": {},
   "outputs": [],
   "source": [
    "# what is the total standard deviation of life expectancy?\n",
    "\n",
    "expectancy1950['life expectancy'].std()"
   ]
  },
  {
   "cell_type": "code",
   "execution_count": null,
   "id": "a0b0497a",
   "metadata": {},
   "outputs": [],
   "source": []
  },
  {
   "cell_type": "code",
   "execution_count": null,
   "id": "7d7ba2b0",
   "metadata": {},
   "outputs": [],
   "source": [
    "# what is the mean vs median life expectancy for the years 1980 and 2000?"
   ]
  },
  {
   "cell_type": "code",
   "execution_count": null,
   "id": "3e5d4256",
   "metadata": {},
   "outputs": [],
   "source": [
    "# mean life expectancy for the year 2000\n",
    "\n",
    "expectancy1950[expectancy1950['year']==2000].mean(numeric_only=True)"
   ]
  },
  {
   "cell_type": "code",
   "execution_count": null,
   "id": "4726a40d",
   "metadata": {},
   "outputs": [],
   "source": [
    "# mean life expectancy for the year 1980\n",
    "\n",
    "expectancy1950[expectancy1950['year']==1980].mean(numeric_only=True)"
   ]
  },
  {
   "cell_type": "code",
   "execution_count": null,
   "id": "aa69e766",
   "metadata": {},
   "outputs": [],
   "source": [
    "# median life expectancy for the year 2000\n",
    "\n",
    "expectancy1950[expectancy1950['year']==2000].median(numeric_only=True)"
   ]
  },
  {
   "cell_type": "code",
   "execution_count": null,
   "id": "a7334634",
   "metadata": {},
   "outputs": [],
   "source": [
    "# median life expectancy for the year 1980\n",
    "\n",
    "expectancy1950[expectancy1950['year']==1980].median(numeric_only=True)"
   ]
  },
  {
   "cell_type": "code",
   "execution_count": null,
   "id": "3c2a10e6",
   "metadata": {},
   "outputs": [],
   "source": []
  },
  {
   "cell_type": "code",
   "execution_count": null,
   "id": "1294da29",
   "metadata": {},
   "outputs": [],
   "source": [
    "# Which countries have the highest and lowest life expectancy worldwide and in which year?"
   ]
  },
  {
   "cell_type": "code",
   "execution_count": null,
   "id": "64c41c12",
   "metadata": {},
   "outputs": [],
   "source": [
    "expectancy1950['life expectancy'].max()"
   ]
  },
  {
   "cell_type": "code",
   "execution_count": null,
   "id": "32afd920",
   "metadata": {},
   "outputs": [],
   "source": [
    "expectancy1950['life expectancy'].min()"
   ]
  },
  {
   "cell_type": "code",
   "execution_count": null,
   "id": "99d3fff6",
   "metadata": {},
   "outputs": [],
   "source": [
    "expectancy1950.describe()"
   ]
  },
  {
   "cell_type": "code",
   "execution_count": null,
   "id": "b51532f1",
   "metadata": {},
   "outputs": [],
   "source": [
    "# which country has the max life expectancy?\n",
    "\n",
    "expectancy1950[expectancy1950[\"life expectancy\"]==84.8]"
   ]
  },
  {
   "cell_type": "code",
   "execution_count": null,
   "id": "96238a42",
   "metadata": {},
   "outputs": [],
   "source": [
    "# with .loc\n",
    "\n",
    "expectancy1950.loc[expectancy1950[\"life expectancy\"]==84.8]"
   ]
  },
  {
   "cell_type": "code",
   "execution_count": null,
   "id": "54dee634",
   "metadata": {},
   "outputs": [],
   "source": [
    "# which country has the min life expectancy?\n",
    "\n",
    "expectancy1950[expectancy1950[\"life expectancy\"]==13.2]"
   ]
  },
  {
   "cell_type": "code",
   "execution_count": null,
   "id": "21d33142",
   "metadata": {},
   "outputs": [],
   "source": [
    "# with .loc\n",
    "\n",
    "expectancy1950.loc[expectancy1950[\"life expectancy\"]==13.2]"
   ]
  },
  {
   "cell_type": "code",
   "execution_count": null,
   "id": "b2b54483",
   "metadata": {},
   "outputs": [],
   "source": [
    "# find the 90% quantile of the life expectancy\n",
    "\n",
    "expectancy1950['life expectancy'].quantile([0.1, 0.9])\n",
    "\n",
    "# the 90% quantile of the life expectancy is 76.4"
   ]
  },
  {
   "cell_type": "code",
   "execution_count": null,
   "id": "bb3ee0ab",
   "metadata": {},
   "outputs": [],
   "source": []
  },
  {
   "cell_type": "code",
   "execution_count": null,
   "id": "9c757a5f",
   "metadata": {},
   "outputs": [],
   "source": [
    "# Merging 4 dataframes\n",
    "\n",
    "# continents\n",
    "# population1950\n",
    "# fertility1950\n",
    "# expectancy1950"
   ]
  },
  {
   "cell_type": "code",
   "execution_count": null,
   "id": "26e86d10",
   "metadata": {},
   "outputs": [],
   "source": [
    "# merging continents with expectancy1950\n",
    "\n",
    "cont_expect = continents.merge(expectancy1950)"
   ]
  },
  {
   "cell_type": "code",
   "execution_count": null,
   "id": "52825674",
   "metadata": {},
   "outputs": [],
   "source": [
    "cont_expect.head()"
   ]
  },
  {
   "cell_type": "code",
   "execution_count": null,
   "id": "ce52829e",
   "metadata": {},
   "outputs": [],
   "source": [
    "cont_expect.isnull().sum()"
   ]
  },
  {
   "cell_type": "code",
   "execution_count": null,
   "id": "8cabf07e",
   "metadata": {},
   "outputs": [],
   "source": [
    "# merging the other two dfs (population1950 and fertility1950)"
   ]
  },
  {
   "cell_type": "code",
   "execution_count": null,
   "id": "d1e118d3",
   "metadata": {},
   "outputs": [],
   "source": [
    "popul_fert = population1950.merge(fertility1950)"
   ]
  },
  {
   "cell_type": "code",
   "execution_count": null,
   "id": "acc8b86c",
   "metadata": {},
   "outputs": [],
   "source": [
    "popul_fert.head()"
   ]
  },
  {
   "cell_type": "code",
   "execution_count": null,
   "id": "ed648c18",
   "metadata": {},
   "outputs": [],
   "source": [
    "popul_fert.isnull().sum()"
   ]
  },
  {
   "cell_type": "code",
   "execution_count": null,
   "id": "8fc2d025",
   "metadata": {},
   "outputs": [],
   "source": [
    "# merging all in one dataframe"
   ]
  },
  {
   "cell_type": "code",
   "execution_count": null,
   "id": "76649604",
   "metadata": {},
   "outputs": [],
   "source": [
    "gapminder_total = cont_expect.merge(popul_fert)"
   ]
  },
  {
   "cell_type": "code",
   "execution_count": null,
   "id": "7c540183",
   "metadata": {},
   "outputs": [],
   "source": [
    "gapminder_total.head()"
   ]
  },
  {
   "cell_type": "code",
   "execution_count": null,
   "id": "cf31cff2",
   "metadata": {},
   "outputs": [],
   "source": [
    "gapminder_total.info()"
   ]
  },
  {
   "cell_type": "code",
   "execution_count": null,
   "id": "4c240d36",
   "metadata": {},
   "outputs": [],
   "source": [
    "# saving the complete dataframe to csv\n",
    "\n",
    "gapminder_total.to_csv('../data/gapminder_total.csv')"
   ]
  },
  {
   "cell_type": "code",
   "execution_count": null,
   "id": "d2be7179",
   "metadata": {},
   "outputs": [],
   "source": [
    "gapminder_total.describe()"
   ]
  },
  {
   "cell_type": "code",
   "execution_count": null,
   "id": "ffbbfd26",
   "metadata": {},
   "outputs": [],
   "source": [
    "# How often does each continent appear in the data set?\n",
    "\n",
    "gapminder_total['continent'].value_counts()"
   ]
  },
  {
   "cell_type": "code",
   "execution_count": null,
   "id": "620ad391",
   "metadata": {},
   "outputs": [],
   "source": [
    "gapminder_total['continent'].value_counts(normalize=True)"
   ]
  },
  {
   "cell_type": "code",
   "execution_count": null,
   "id": "fb559e50",
   "metadata": {},
   "outputs": [],
   "source": [
    "# Which continent has the lowest average fertility rate overall?\n",
    "\n",
    "agg_dict = {'fertility': ['mean']}\n",
    "\n",
    "gapminder_total.groupby('continent').agg(agg_dict)\n",
    "\n",
    "# Europe by far"
   ]
  },
  {
   "cell_type": "code",
   "execution_count": null,
   "id": "aff1c782",
   "metadata": {},
   "outputs": [],
   "source": [
    "continent_fertility = gapminder_total.groupby('continent')['fertility'].mean()\n",
    "continent_fertility"
   ]
  },
  {
   "cell_type": "code",
   "execution_count": null,
   "id": "7dcb8bb1",
   "metadata": {},
   "outputs": [],
   "source": [
    "continent_fertility.idxmin()"
   ]
  },
  {
   "cell_type": "code",
   "execution_count": null,
   "id": "a01383c3",
   "metadata": {},
   "outputs": [],
   "source": [
    "# What was the average life expectancy in Europe in 2015? \n",
    "\n",
    "agg_dict = {'life expectancy': ['mean']}\n",
    "\n",
    "gapminder_total[gapminder_total['year']==2015].groupby('continent').agg(agg_dict)\n",
    "\n",
    "# 78.75 years"
   ]
  },
  {
   "cell_type": "code",
   "execution_count": null,
   "id": "1de0f387",
   "metadata": {},
   "outputs": [],
   "source": [
    "# How many countries does each continent have in the dataset?\n",
    "\n",
    "gapminder_total.groupby('continent')['country'].nunique()"
   ]
  },
  {
   "cell_type": "code",
   "execution_count": null,
   "id": "0812940b",
   "metadata": {},
   "outputs": [],
   "source": [
    "# What is the average population of a European country in 1960 compare to 2015?\n",
    "# Hint: once again filter for the year in question and do each year separately to compare\n",
    "\n",
    "agg_dict = {'continent': ['value_counts']}\n",
    "\n",
    "gapminder_total[gapminder_total['year']==1960].groupby('continent').agg(agg_dict)\n",
    "\n",
    "# double checking that we have the same number of European countries in 1976 (as in 2015 = 40)"
   ]
  },
  {
   "cell_type": "code",
   "execution_count": null,
   "id": "ee73f81d",
   "metadata": {},
   "outputs": [],
   "source": [
    "gapminder_total[gapminder_total['year']==2015].groupby('continent').agg(agg_dict)\n",
    "\n",
    "# 40 countries in Europe"
   ]
  },
  {
   "cell_type": "code",
   "execution_count": null,
   "id": "da7bdfbc",
   "metadata": {},
   "outputs": [],
   "source": [
    "agg_dict = {'population': ['mean']}"
   ]
  },
  {
   "cell_type": "code",
   "execution_count": null,
   "id": "b88a8e68",
   "metadata": {},
   "outputs": [],
   "source": [
    "gapminder_total[gapminder_total['year']==1960][gapminder_total['continent']=='Europe'].groupby('continent').agg(agg_dict)"
   ]
  },
  {
   "cell_type": "code",
   "execution_count": null,
   "id": "e56c21b6",
   "metadata": {},
   "outputs": [],
   "source": [
    "gapminder_total[gapminder_total['year']==2015][gapminder_total['continent']=='Europe'].groupby('continent').agg(agg_dict)"
   ]
  },
  {
   "cell_type": "code",
   "execution_count": null,
   "id": "900b3b7c",
   "metadata": {},
   "outputs": [],
   "source": [
    "# for all the continents (not just Europe) in 1960\n",
    "\n",
    "gapminder_total[gapminder_total['year']==1960].groupby('continent').agg(agg_dict)"
   ]
  },
  {
   "cell_type": "code",
   "execution_count": null,
   "id": "43c8e741",
   "metadata": {},
   "outputs": [],
   "source": [
    "# for all the continents (not just Europe) in 2015\n",
    "\n",
    "gapminder_total[gapminder_total['year']==2015].groupby('continent').agg(agg_dict)"
   ]
  },
  {
   "cell_type": "code",
   "execution_count": null,
   "id": "33dc7bf7",
   "metadata": {},
   "outputs": [],
   "source": [
    "# What is the highest population a continent ever had?\n",
    "\n",
    "agg_dict = {'population': ['max']}\n",
    "\n",
    "populations_per_year = gapminder_total.groupby(['continent', 'year']).agg(agg_dict)\n",
    "\n",
    "populations_per_year"
   ]
  },
  {
   "cell_type": "code",
   "execution_count": null,
   "id": "90bbea3d",
   "metadata": {},
   "outputs": [],
   "source": [
    "populations_per_year.idxmax()"
   ]
  },
  {
   "cell_type": "code",
   "execution_count": null,
   "id": "7dc5c8dd",
   "metadata": {},
   "outputs": [],
   "source": []
  },
  {
   "cell_type": "code",
   "execution_count": null,
   "id": "ad3d6138",
   "metadata": {},
   "outputs": [],
   "source": [
    "# making masks for the all the continents and saving them as dfs\n",
    "\n",
    "\n",
    "Europe = gapminder_total[gapminder_total['continent']=='Europe']\n",
    "Asia = gapminder_total[gapminder_total['continent']=='Asia']\n",
    "Africa = gapminder_total[gapminder_total['continent']=='Africa']\n",
    "NorthAmerica = gapminder_total[gapminder_total['continent']=='North America']\n",
    "SouthAmerica = gapminder_total[gapminder_total['continent']=='South America']\n",
    "Oceania = gapminder_total[gapminder_total['continent']=='Australia and Oceania']\n"
   ]
  },
  {
   "cell_type": "code",
   "execution_count": null,
   "id": "3630f6e0",
   "metadata": {},
   "outputs": [],
   "source": [
    "# creating histograms for the distribution of populations in the different continents for all the years together\n",
    "\n",
    "listofdfs = [Europe['population'], Asia['population'], Africa['population'], \n",
    "             NorthAmerica['population'], SouthAmerica['population'], Oceania['population']] \n",
    "\n",
    "plt.hist(x = listofdfs, label =['Europe', 'Asia', 'Africa', 'North America', 'South America', 'Oceania'], log=True, bins = 6, rwidth=1)\n",
    "\n",
    "plt.legend()\n",
    "plt.xlabel('Population')\n",
    "plt.ylabel('Count')\n",
    "plt.title(\"Population Distribution per Contintent (1950-2015)\");\n",
    "\n",
    "# rwidth: Set Width for Bars in Bar Plot"
   ]
  },
  {
   "cell_type": "code",
   "execution_count": null,
   "id": "9e3bb5c1",
   "metadata": {},
   "outputs": [],
   "source": [
    "gapminder_total"
   ]
  },
  {
   "cell_type": "code",
   "execution_count": null,
   "id": "2d52bb25",
   "metadata": {},
   "outputs": [],
   "source": [
    "gapminder_total.tail()"
   ]
  },
  {
   "cell_type": "code",
   "execution_count": null,
   "id": "86a36693",
   "metadata": {},
   "outputs": [],
   "source": [
    "gapminder_total.groupby('continent')['country'].nunique()"
   ]
  },
  {
   "cell_type": "code",
   "execution_count": null,
   "id": "4ce5d1a0",
   "metadata": {},
   "outputs": [],
   "source": [
    "# Boxplots for the distribution of populations in every country per continent \n",
    "# (figsize adjusted to the number of countries)\n",
    "sns.set_style(\"darkgrid\")\n",
    "\n",
    "# Africa (49 countries)\n",
    "plt.figure(figsize = (14,24))\n",
    "sns.boxplot(y = 'country', x = 'population', data=Africa).set(title='Distribution of African populations');"
   ]
  },
  {
   "cell_type": "code",
   "execution_count": null,
   "id": "f3528349",
   "metadata": {},
   "outputs": [],
   "source": [
    "# Asia (39 countries)\n",
    "plt.figure(figsize = (14,20))\n",
    "sns.boxplot(y = 'country', x = 'population', data=Asia).set(title='Distribution of Asian populations');"
   ]
  },
  {
   "cell_type": "code",
   "execution_count": null,
   "id": "d1ba2d37",
   "metadata": {},
   "outputs": [],
   "source": [
    "# Europe (40 countries)\n",
    "plt.figure(figsize = (14,20))\n",
    "sns.boxplot(y = 'country', x = 'population', data=Europe).set(title='Distribution of European populations');"
   ]
  },
  {
   "cell_type": "code",
   "execution_count": null,
   "id": "a0e99ab9",
   "metadata": {},
   "outputs": [],
   "source": [
    "# North America (19 countries)\n",
    "plt.figure(figsize = (14,10))\n",
    "sns.boxplot(y = 'country', x = 'population', data=NorthAmerica).set(title='Distribution of North American populations');"
   ]
  },
  {
   "cell_type": "code",
   "execution_count": null,
   "id": "fc8c990b",
   "metadata": {},
   "outputs": [],
   "source": [
    "# South America (12 countries)\n",
    "plt.figure(figsize = (14,6))\n",
    "sns.boxplot(y = 'country', x = 'population', data=SouthAmerica).set(title='Distribution of South American populations');"
   ]
  },
  {
   "cell_type": "code",
   "execution_count": null,
   "id": "ba3c3f61",
   "metadata": {},
   "outputs": [],
   "source": [
    "# Oceania (9 countries)\n",
    "plt.figure(figsize = (14,5))\n",
    "sns.boxplot(y = 'country', x = 'population', data=Oceania).set(title='Distribution of Oceanian populations');"
   ]
  },
  {
   "cell_type": "code",
   "execution_count": null,
   "id": "a37299d6",
   "metadata": {},
   "outputs": [],
   "source": [
    "Asia"
   ]
  },
  {
   "cell_type": "code",
   "execution_count": null,
   "id": "d9257a07",
   "metadata": {},
   "outputs": [],
   "source": [
    "# Borplots with the mean fertility for every country per continent \n",
    "# (figsize adjusted to the number of countries)\n",
    "\n",
    "# Africa \n",
    "\n",
    "plt.figure(figsize = (14,8))\n",
    "sns.barplot(x=\"country\", y =\"fertility\", palette=\"tab10\", data=Africa).set(title='Fertility rate in African countries (1950-2015)');\n",
    "plt.xticks(rotation=90);"
   ]
  },
  {
   "cell_type": "code",
   "execution_count": null,
   "id": "7999e540",
   "metadata": {},
   "outputs": [],
   "source": [
    "gapminder_total.groupby('continent')['country'].nunique()"
   ]
  },
  {
   "cell_type": "code",
   "execution_count": null,
   "id": "c4083d09",
   "metadata": {},
   "outputs": [],
   "source": [
    "# Asia (39 countries)\n",
    "\n",
    "plt.figure(figsize = (12,8))\n",
    "sns.barplot(x =\"country\", y=\"fertility\", palette=\"tab10\", data=Asia).set(title='Fertility rate in Asian countries (1950-2015)');\n",
    "plt.xticks(rotation=90);"
   ]
  },
  {
   "cell_type": "code",
   "execution_count": null,
   "id": "0955028c",
   "metadata": {},
   "outputs": [],
   "source": [
    "# Europe \n",
    "\n",
    "plt.figure(figsize = (12,8))\n",
    "sns.barplot(x =\"country\", y=\"fertility\", palette=\"tab10\", data=Europe).set(title='Fertility rate in European countries (1950-2015)');\n",
    "plt.xticks(rotation=90);\n"
   ]
  },
  {
   "cell_type": "code",
   "execution_count": null,
   "id": "8c81c81e",
   "metadata": {},
   "outputs": [],
   "source": [
    "\n",
    "plt.figure(figsize = (6,8))\n",
    "sns.barplot(x =\"country\", y=\"fertility\", palette=\"tab10\", data=NorthAmerica).set(title='Fertility rate in North American countries (1950-2015)');\n",
    "plt.xticks(rotation=90);\n",
    "\n"
   ]
  },
  {
   "cell_type": "code",
   "execution_count": null,
   "id": "8f245b7c",
   "metadata": {},
   "outputs": [],
   "source": [
    "plt.figure(figsize = (5,8))\n",
    "sns.barplot(x =\"country\", y=\"fertility\", palette=\"tab10\", data=SouthAmerica).set(title='Fertility rate in South American countries (1950-2015)');\n",
    "plt.xticks(rotation=90);\n",
    "\n"
   ]
  },
  {
   "cell_type": "code",
   "execution_count": null,
   "id": "14f37427",
   "metadata": {},
   "outputs": [],
   "source": [
    "plt.figure(figsize = (4,8))\n",
    "sns.barplot(x =\"country\", y=\"fertility\", palette=\"tab10\", data=Oceania).set(title='Fertility rate in Oceanian countries (1950-2015)');\n",
    "plt.xticks(rotation=90);"
   ]
  },
  {
   "cell_type": "code",
   "execution_count": null,
   "id": "20fbdfc3",
   "metadata": {},
   "outputs": [],
   "source": [
    "# Life expectancy in every country per continent (bar plots)"
   ]
  },
  {
   "cell_type": "code",
   "execution_count": null,
   "id": "39576806",
   "metadata": {},
   "outputs": [],
   "source": [
    "# Africa\n",
    "\n",
    "plt.figure(figsize = (14,8))\n",
    "sns.barplot(x =\"country\", y=\"life expectancy\", palette=\"tab10\", data=Africa).set(title='Life expectancy in African countries (1950-2015)');\n",
    "plt.xticks(rotation=90);"
   ]
  },
  {
   "cell_type": "code",
   "execution_count": null,
   "id": "040a496a",
   "metadata": {},
   "outputs": [],
   "source": [
    "# Asia\n",
    "\n",
    "plt.figure(figsize = (12,8))\n",
    "sns.barplot(x =\"country\", y=\"life expectancy\", palette=\"tab10\", data=Asia).set(title='Life expectancy in Asian countries (1950-2015)');\n",
    "plt.xticks(rotation=90);"
   ]
  },
  {
   "cell_type": "code",
   "execution_count": null,
   "id": "1850a0a2",
   "metadata": {},
   "outputs": [],
   "source": [
    "# Europe\n",
    "\n",
    "plt.figure(figsize = (12,8))\n",
    "sns.barplot(x =\"country\", y=\"life expectancy\", palette=\"tab10\", data=Europe).set(title='Life expectancy in European countries (1950-2015)');\n",
    "plt.xticks(rotation=90);"
   ]
  },
  {
   "cell_type": "code",
   "execution_count": null,
   "id": "275c9b13",
   "metadata": {},
   "outputs": [],
   "source": [
    "# North America\n",
    "\n",
    "plt.figure(figsize = (6,8))\n",
    "sns.barplot(x =\"country\", y=\"life expectancy\", palette=\"tab10\", data=NorthAmerica).set(title='Life expectancy in North American countries (1950-2015)');\n",
    "plt.xticks(rotation=90);"
   ]
  },
  {
   "cell_type": "code",
   "execution_count": null,
   "id": "38bb127a",
   "metadata": {},
   "outputs": [],
   "source": [
    "# South America\n",
    "\n",
    "plt.figure(figsize = (5,8))\n",
    "sns.barplot(x =\"country\", y=\"life expectancy\", palette=\"tab10\", data=SouthAmerica).set(title='Life expectancy in South American countries (1950-2015)');\n",
    "plt.xticks(rotation=90);8"
   ]
  },
  {
   "cell_type": "code",
   "execution_count": null,
   "id": "c9a0c0ea",
   "metadata": {},
   "outputs": [],
   "source": [
    "# Oceania \n",
    "\n",
    "plt.figure(figsize = (4,8))\n",
    "sns.barplot(x =\"country\", y=\"life expectancy\", palette=\"tab10\", data=Oceania).set(title='Life expectancy in Oceanian countries (1950-2015)');\n",
    "plt.xticks(rotation=90);"
   ]
  },
  {
   "cell_type": "code",
   "execution_count": null,
   "id": "91983b47",
   "metadata": {},
   "outputs": [],
   "source": []
  },
  {
   "cell_type": "code",
   "execution_count": null,
   "id": "f5a86c92",
   "metadata": {},
   "outputs": [],
   "source": [
    "gapminder_total"
   ]
  },
  {
   "cell_type": "code",
   "execution_count": null,
   "id": "e526450f",
   "metadata": {},
   "outputs": [],
   "source": [
    "# Creating a subset of data for one year eg. 1950\n",
    "\n",
    "df_subset = gapminder_total.loc[gapminder_total['year'] == 1950]"
   ]
  },
  {
   "cell_type": "code",
   "execution_count": null,
   "id": "20c7f1c6",
   "metadata": {},
   "outputs": [],
   "source": [
    "df_subset"
   ]
  },
  {
   "cell_type": "code",
   "execution_count": null,
   "id": "2e5e085d",
   "metadata": {},
   "outputs": [],
   "source": [
    "# Step 7\n",
    "# Setting the axes to display the origin also gives us \n",
    "# a more complete picture of what is going on.\n",
    "\n",
    "\n",
    "plt.figure(figsize=(8, 6))\n",
    "plt.title('Life Expectancy vs Fertility Rate')\n",
    "plt.ylabel('Fertility Rate')\n",
    "plt.xlabel('Life Expectancy')\n",
    "plt.axis([0, 85, 0, 9.5])\n",
    "\n",
    "g = sns.scatterplot(\n",
    "                    x='life expectancy', \n",
    "                    y='fertility', \n",
    "                    data = df_subset, \n",
    "                    hue= 'continent',\n",
    "                    size = 'population',\n",
    "                    sizes = (40, 250),\n",
    "                    s=120,\n",
    "                    palette=\"tab10\",\n",
    "                    alpha = 0.7\n",
    "                    );\n",
    "\n",
    "h,l=g.get_legend_handles_labels()\n",
    "\n",
    "plt.legend(h[0:7],l[0:7],bbox_to_anchor=(1.02, 0.8),loc=2, \n",
    "frameon= False, fontsize=10);"
   ]
  },
  {
   "cell_type": "code",
   "execution_count": null,
   "id": "e2c02493",
   "metadata": {},
   "outputs": [],
   "source": [
    "# saving the plot for one year\n",
    "\n",
    "sns.set_style(\"darkgrid\")\n",
    "\n",
    "plt.subplots(figsize=(8, 6))\n",
    "plt.title('Life Expectancy vs Fertility Rate)')\n",
    "plt.ylabel('Fertility Rate (children)')\n",
    "plt.xlabel('Life Expectancy (years)')\n",
    "plt.axis([0, 85, 0, 9.5])\n",
    "\n",
    "g = sns.scatterplot(\n",
    "                    x='life expectancy', \n",
    "                    y='fertility', \n",
    "                    data = df_subset, \n",
    "                    hue= 'continent',\n",
    "                    size = 'population',\n",
    "                    sizes = (40, 250),\n",
    "                    s=120,\n",
    "                    palette=\"tab10\",\n",
    "                    alpha = 0.7\n",
    "                    );\n",
    "\n",
    "h,l=g.get_legend_handles_labels()\n",
    "\n",
    "plt.legend(h[0:7],l[0:7],bbox_to_anchor=(1.02, 0.8),loc=2, \n",
    "frameon= False, fontsize=10)\n",
    "\n",
    "plt.annotate('Brazil',(df_subset[df_subset['country']==\"Brazil\"]['life expectancy'],    \n",
    "                      df_subset[df_subset['country']==\"Brazil\"]['fertility']+0.1));  \n",
    "plt.annotate('New Zealand',(df_subset[df_subset['country']==\"New Zealand\"]['life expectancy'],    \n",
    "                      df_subset[df_subset['country']==\"New Zealand\"]['fertility']+0.1)); \n",
    "plt.annotate('Botswana',(df_subset[df_subset['country']==\"Botswana\"]['life expectancy'],    \n",
    "                      df_subset[df_subset['country']==\"Botswana\"]['fertility']+0.1)); \n",
    "plt.annotate('Honduras',(df_subset[df_subset['country']==\"Honduras\"]['life expectancy'],    \n",
    "                      df_subset[df_subset['country']==\"Honduras\"]['fertility']+0.1)); \n",
    "plt.annotate('Serbia',(df_subset[df_subset['country']==\"Serbia\"]['life expectancy'],    \n",
    "                      df_subset[df_subset['country']==\"Serbia\"]['fertility']+0.1)); \n",
    "plt.annotate('Iran',(df_subset[df_subset['country']==\"Iran\"]['life expectancy'],    \n",
    "                      df_subset[df_subset['country']==\"Iran\"]['fertility']+0.1)); \n",
    "\n",
    "\n",
    "PATH = (f'../images')\n",
    "filename = (f'plot_image1950.png')\n",
    "plt.savefig(f'{PATH}/{filename}', bbox_inches=\"tight\")\n",
    "plt.close()"
   ]
  },
  {
   "cell_type": "code",
   "execution_count": null,
   "id": "f510a3aa",
   "metadata": {},
   "outputs": [],
   "source": []
  },
  {
   "cell_type": "code",
   "execution_count": null,
   "id": "060c01b4",
   "metadata": {},
   "outputs": [],
   "source": [
    "# with a for loop, creating graphs for each year and saving them in the folder 'images'\n",
    "\n",
    "PATH =(f'../images')\n",
    "for year in range(1950, 2016):\n",
    "    df_subset = gapminder_total[gapminder_total['year']==year]\n",
    "    #MY PLOT\n",
    "    sns.set_style(\"darkgrid\")\n",
    "\n",
    "    plt.subplots(figsize=(8, 6))\n",
    "    plt.title(f'Life Expectancy vs Fertility Rate ({year})')\n",
    "    plt.ylabel('Fertility Rate (children)')\n",
    "    plt.xlabel('Life Expectancy (years)')\n",
    "    plt.axis([0, 85, 0, 9.5])\n",
    "\n",
    "    g = sns.scatterplot(\n",
    "                    x='life expectancy', \n",
    "                    y='fertility', \n",
    "                    data = df_subset, \n",
    "                    hue= 'continent',\n",
    "                    size = 'population',\n",
    "                    sizes = (40, 250),\n",
    "                    s=120,\n",
    "                    palette=\"tab10\",\n",
    "                    alpha = 0.7\n",
    "                    );\n",
    "\n",
    "    h,l=g.get_legend_handles_labels()\n",
    "\n",
    "    plt.legend(h[0:7],l[0:7],bbox_to_anchor=(1.02, 0.8),loc=2, \n",
    "    frameon= False, fontsize=10)\n",
    "\n",
    "    plt.annotate('Brazil',(df_subset[df_subset['country']==\"Brazil\"]['life expectancy'],    \n",
    "                      df_subset[df_subset['country']==\"Brazil\"]['fertility']+0.1));  \n",
    "    plt.annotate('New Zealand',(df_subset[df_subset['country']==\"New Zealand\"]['life expectancy'],    \n",
    "                      df_subset[df_subset['country']==\"New Zealand\"]['fertility']+0.1)); \n",
    "    plt.annotate('Botswana',(df_subset[df_subset['country']==\"Botswana\"]['life expectancy'],    \n",
    "                      df_subset[df_subset['country']==\"Botswana\"]['fertility']+0.1)); \n",
    "    plt.annotate('Honduras',(df_subset[df_subset['country']==\"Honduras\"]['life expectancy'],    \n",
    "                      df_subset[df_subset['country']==\"Honduras\"]['fertility']+0.1)); \n",
    "    plt.annotate('Bulgaria',(df_subset[df_subset['country']==\"Bulgaria\"]['life expectancy'],    \n",
    "                      df_subset[df_subset['country']==\"Bulgaria\"]['fertility']+0.1)); \n",
    "    plt.annotate('Iran',(df_subset[df_subset['country']==\"Iran\"]['life expectancy'],    \n",
    "                      df_subset[df_subset['country']==\"Iran\"]['fertility']+0.1)); \n",
    "\n",
    "\n",
    "    \n",
    "    filename = f'plot_{year}.png'\n",
    "    plt.savefig(f'{PATH}/{filename}', bbox_inches=\"tight\")\n",
    "    plt.close()"
   ]
  },
  {
   "cell_type": "code",
   "execution_count": null,
   "id": "7c6e83b0",
   "metadata": {},
   "outputs": [],
   "source": [
    "# making an animated gif from the images saved in 'images' and saving the gif in the folder 'gifs'\n",
    "\n",
    "PATH =(f'../images')\n",
    "PATH2 =(f'../gifs')\n",
    "\n",
    "images = []\n",
    "\n",
    "for year in range(1950, 2016):\n",
    "    filename = f'{PATH}/plot_{year}.png'\n",
    "    images.append(imageio.imread(f'{filename}'))\n",
    "\n",
    "imageio.mimsave(f'{PATH2}/the_gif_dur02.gif', images, duration=0.2)"
   ]
  },
  {
   "cell_type": "code",
   "execution_count": null,
   "id": "c7a09a76",
   "metadata": {},
   "outputs": [],
   "source": []
  },
  {
   "cell_type": "code",
   "execution_count": null,
   "id": "0c322521",
   "metadata": {},
   "outputs": [],
   "source": [
    "### Making a gif with the European populations over the years. Step1\n",
    "\n",
    "PATH =(f'../images')\n",
    "for year in range(1960, 2016):\n",
    "\n",
    "\n",
    "    sns.set_style(\"darkgrid\")\n",
    "\n",
    "    fig, ax = plt.subplots(figsize = (10,12))\n",
    "    plt.title(f'Population of European countries ({year})')\n",
    "    plt.ylabel('Countries')\n",
    "    plt.xlabel('Population')\n",
    "    ax.set(xlim=(0, 90000000))\n",
    "\n",
    "    sns.barplot(x =\"population\", y=\"country\", errorbar= None, estimator=np.max, ax=ax, data=Europe[Europe['year']==year]);    \n",
    "    \n",
    "    filename = f'plot_Europe_{year}.png'\n",
    "    plt.savefig(f'{PATH}/{filename}', bbox_inches=\"tight\")\n",
    "    plt.close()\n",
    "\n"
   ]
  },
  {
   "cell_type": "code",
   "execution_count": null,
   "id": "265cd7cc",
   "metadata": {},
   "outputs": [],
   "source": [
    "### Making a gif with the European populations over the years. Step2\n",
    "\n",
    "PATH =(f'../images')\n",
    "PATH2 =(f'../gifs')\n",
    "\n",
    "images = []\n",
    "\n",
    "for year in range(1960, 2016):\n",
    "    filename = f'{PATH}/plot_Europe_{year}.png'\n",
    "    images.append(imageio.imread(f'{filename}'))\n",
    "\n",
    "imageio.mimsave(f'{PATH2}/the_European_populations_1960-2015.gif', images, duration=0.2)"
   ]
  },
  {
   "cell_type": "code",
   "execution_count": null,
   "id": "f783d43f",
   "metadata": {},
   "outputs": [],
   "source": [
    "### Making a gif with the Asian populations over the years. Step1\n",
    "PATH =(f'../images')\n",
    "for year in range(1960, 2016):\n",
    "\n",
    "\n",
    "    sns.set_style(\"darkgrid\")\n",
    "\n",
    "    fig, ax = plt.subplots(figsize = (10,12))\n",
    "    plt.title(f'Population of Asian countries ({year})')\n",
    "    plt.ylabel('Countries')\n",
    "    plt.xlabel('Population')\n",
    "    ax.set(xlim=(0, 1500000000))\n",
    "\n",
    "    sns.barplot(x =\"population\", y=\"country\", errorbar= None, estimator=np.max, ax=ax, data=Asia[Asia['year']==year]);    \n",
    "    \n",
    "    filename = f'plot_Asia_{year}.png'\n",
    "    plt.savefig(f'{PATH}/{filename}', bbox_inches=\"tight\")\n",
    "    plt.close()\n",
    "\n"
   ]
  },
  {
   "cell_type": "code",
   "execution_count": null,
   "id": "f22d067d",
   "metadata": {},
   "outputs": [],
   "source": [
    "### Making a gif with the Asian populations over the years. Step2\n",
    "\n",
    "PATH =(f'../images')\n",
    "PATH2 =(f'../gifs')\n",
    "\n",
    "images = []\n",
    "\n",
    "for year in range(1960, 2016):\n",
    "    filename = f'{PATH}/plot_Asia_{year}.png'\n",
    "    images.append(imageio.imread(f'{filename}'))\n",
    "\n",
    "imageio.mimsave(f'{PATH2}/the_Asian_populations_1960-2015.gif', images, duration=0.2)"
   ]
  },
  {
   "cell_type": "code",
   "execution_count": null,
   "id": "30e2711b",
   "metadata": {},
   "outputs": [],
   "source": [
    "### Making a gif with the African populations over the years. Step1\n",
    "PATH =(f'../images')\n",
    "for year in range(1960, 2016):\n",
    "\n",
    "\n",
    "    sns.set_style(\"darkgrid\")\n",
    "\n",
    "    fig, ax = plt.subplots(figsize = (10,12))\n",
    "    plt.title(f'Population of African countries ({year})')\n",
    "    plt.ylabel('Countries')\n",
    "    plt.xlabel('Population')\n",
    "    ax.set(xlim=(0, 200000000))\n",
    "\n",
    "    sns.barplot(x =\"population\", y=\"country\", errorbar= None, estimator=np.max, ax=ax, data=Africa[Africa['year']==year]);    \n",
    "    \n",
    "    filename = f'plot_Africa_{year}.png'\n",
    "    plt.savefig(f'{PATH}/{filename}', bbox_inches=\"tight\")\n",
    "    plt.close()"
   ]
  },
  {
   "cell_type": "code",
   "execution_count": null,
   "id": "f0f89ee2",
   "metadata": {},
   "outputs": [],
   "source": [
    "### Making a gif with the African populations over the years. Step2\n",
    "\n",
    "PATH =(f'../images')\n",
    "PATH2 =(f'../gifs')\n",
    "\n",
    "images = []\n",
    "\n",
    "for year in range(1960, 2016):\n",
    "    filename = f'{PATH}/plot_Africa_{year}.png'\n",
    "    images.append(imageio.imread(f'{filename}'))\n",
    "\n",
    "imageio.mimsave(f'{PATH2}/the_African_populations_1960-2015.gif', images, duration=0.2)"
   ]
  },
  {
   "cell_type": "code",
   "execution_count": null,
   "id": "e6238b53",
   "metadata": {},
   "outputs": [],
   "source": []
  },
  {
   "cell_type": "code",
   "execution_count": null,
   "id": "c8296be7",
   "metadata": {},
   "outputs": [],
   "source": []
  },
  {
   "cell_type": "code",
   "execution_count": null,
   "id": "a0056d97",
   "metadata": {},
   "outputs": [],
   "source": []
  },
  {
   "cell_type": "code",
   "execution_count": null,
   "id": "a5675ef1",
   "metadata": {},
   "outputs": [],
   "source": []
  }
 ],
 "metadata": {
  "kernelspec": {
   "display_name": "Python 3 (ipykernel)",
   "language": "python",
   "name": "python3"
  },
  "language_info": {
   "codemirror_mode": {
    "name": "ipython",
    "version": 3
   },
   "file_extension": ".py",
   "mimetype": "text/x-python",
   "name": "python",
   "nbconvert_exporter": "python",
   "pygments_lexer": "ipython3",
   "version": "3.11.4"
  }
 },
 "nbformat": 4,
 "nbformat_minor": 5
}
